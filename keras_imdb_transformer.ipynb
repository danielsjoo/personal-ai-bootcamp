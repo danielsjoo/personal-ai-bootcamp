{
 "cells": [
  {
   "cell_type": "markdown",
   "id": "bde36241",
   "metadata": {},
   "source": [
    "# TIME FOR THE TRANSFORMER!!!\n",
    "\n",
    "Woohoo, I'm finally up to this point and I'm super excited. First some readings:\n",
    "\n",
    "1. [3Blue1Brown](https://www.youtube.com/watch?v=wjZofJX0v4M&ab_channel=3Blue1Brown)\n",
    "2. [Stat Quest](https://www.youtube.com/watch?v=zxQyTK8quyY&ab_channel=StatQuestwithJoshStarmer)\n",
    "3. [The Illustrated Transformer](https://jalammar.github.io/illustrated-transformer/)\n",
    "4. [Attention is All you Need](https://proceedings.neurips.cc/paper_files/paper/2017/file/3f5ee243547dee91fbd053c1c4a845aa-Paper.pdf)\n"
   ]
  },
  {
   "cell_type": "code",
   "execution_count": null,
   "id": "f7b40afa",
   "metadata": {
    "vscode": {
     "languageId": "plaintext"
    }
   },
   "outputs": [],
   "source": []
  }
 ],
 "metadata": {
  "language_info": {
   "name": "python"
  }
 },
 "nbformat": 4,
 "nbformat_minor": 5
}
