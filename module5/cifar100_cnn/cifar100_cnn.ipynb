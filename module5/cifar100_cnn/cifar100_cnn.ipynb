{
 "cells": [
  {
   "cell_type": "markdown",
   "id": "35bb6dd1",
   "metadata": {},
   "source": [
    "# CIFAR 100"
   ]
  }
 ],
 "metadata": {
  "kernelspec": {
   "display_name": "venv",
   "language": "python",
   "name": "python3"
  },
  "language_info": {
   "name": "python",
   "version": "3.9.6"
  }
 },
 "nbformat": 4,
 "nbformat_minor": 5
}
