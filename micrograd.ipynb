{
 "cells": [
  {
   "cell_type": "markdown",
   "id": "aab1e56c",
   "metadata": {},
   "source": [
    "# Module 0\n",
    "\n",
    "Implement the forward pass and backward pass for a small NN that computers for the XOR problem\n",
    "\n",
    "For now, I just left it at the forward pass and one backward pass (not topo-sorting and doing them all)"
   ]
  },
  {
   "cell_type": "code",
   "execution_count": 1,
   "id": "b81f0d7b",
   "metadata": {},
   "outputs": [],
   "source": [
    "import math\n",
    "import numpy as np\n",
    "import matplotlib.pyplot as plt\n",
    "from micrograd import nn\n",
    "import random"
   ]
  },
  {
   "cell_type": "code",
   "execution_count": 9,
   "id": "1ec726b6",
   "metadata": {},
   "outputs": [
    {
     "data": {
      "text/plain": [
       "-0.6642754889235848"
      ]
     },
     "execution_count": 9,
     "metadata": {},
     "output_type": "execute_result"
    }
   ],
   "source": [
    "class Value:\n",
    "    def __init__(self, data, grad = 0, _op = ''):\n",
    "        self.data = data\n",
    "        self.grad = grad\n",
    "        self.op = _op\n",
    "        self.backward = lambda: None\n",
    "    \n",
    "    def __add__(self, other):\n",
    "        other = other if isinstance(other, Value) else Value(other)\n",
    "        out = Value(self.data + other.data, _op='+')\n",
    "        \n",
    "        def _backward():\n",
    "            self.grad += out.grad  # Distribute gradient; use +=\n",
    "            other.grad += out.grad # Distribute gradient; use +=\n",
    "        out.backward = _backward\n",
    "        \n",
    "        return out\n",
    "\n",
    "    def __mul__(self, other):\n",
    "        other = other if isinstance(other, Value) else Value(other)\n",
    "        out = Value(self.data * other.data, _op='*')\n",
    "        \n",
    "        def _backward():\n",
    "            # Chain rule for multiplication; use +=\n",
    "            self.grad += other.data * out.grad \n",
    "            other.grad += self.data * out.grad\n",
    "        out.backward = _backward\n",
    "        \n",
    "        return out\n",
    "        \n",
    "    def tanh(self):\n",
    "        t = math.tanh(self.data)\n",
    "        out = Value(t, grad=0, _op='tanh')\n",
    "        def _backward():\n",
    "            self.grad += out.grad * (1 - out.data**2)\n",
    "        out.backward = _backward\n",
    "        return out\n",
    "    \n",
    "    \n",
    "class Neuron:\n",
    "    def __init__(self, nin):\n",
    "        self.w = [Value(random.uniform(-1,1)) for _ in range(nin)]\n",
    "        self.b = Value(random.uniform(-1,1))\n",
    "    \n",
    "    # x is a list of inputs\n",
    "    def __call__(self, x):\n",
    "        action_potential = sum((wi * xi for wi, xi in zip(self.w, x)), self.b) #need zip because i didn't define rhand sum\n",
    "        return action_potential.tanh()\n",
    "    \n",
    "class Layer:\n",
    "    def __init__(self,nin, nout):\n",
    "        self.nodes = [Neuron(nin) for _ in range(nout)]\n",
    "    def __call__(self, x):\n",
    "        outs = [n(x) for n in self.nodes]\n",
    "        return outs\n",
    "\n",
    "class MLP:\n",
    "    def __init__(self, nin, nouts):\n",
    "        sz = [nin] + nouts\n",
    "        self.layers = [Layer(sz[i], sz[i+1]) for i in range(len(nouts))]\n",
    "    def __call__(self,x):\n",
    "        for layer in self.layers:\n",
    "            x = layer(x)\n",
    "        return x\n",
    "    \n",
    "nn = MLP(2,[2,1])\n",
    "nn([0,2])[0].data"
   ]
  },
  {
   "cell_type": "code",
   "execution_count": null,
   "id": "cb675f05",
   "metadata": {},
   "outputs": [],
   "source": []
  }
 ],
 "metadata": {
  "kernelspec": {
   "display_name": "dj",
   "language": "python",
   "name": "python3"
  },
  "language_info": {
   "codemirror_mode": {
    "name": "ipython",
    "version": 3
   },
   "file_extension": ".py",
   "mimetype": "text/x-python",
   "name": "python",
   "nbconvert_exporter": "python",
   "pygments_lexer": "ipython3",
   "version": "3.12.10"
  }
 },
 "nbformat": 4,
 "nbformat_minor": 5
}
